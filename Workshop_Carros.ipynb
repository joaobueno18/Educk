{
  "cells": [
    {
      "cell_type": "markdown",
      "metadata": {
        "id": "view-in-github",
        "colab_type": "text"
      },
      "source": [
        "<a href=\"https://colab.research.google.com/github/joaobueno18/Educk/blob/main/Workshop_Carros.ipynb\" target=\"_parent\"><img src=\"https://colab.research.google.com/assets/colab-badge.svg\" alt=\"Open In Colab\"/></a>"
      ]
    },
    {
      "cell_type": "markdown",
      "metadata": {
        "id": "dlf7kSSkkBSc"
      },
      "source": [
        "## Carros\n",
        "\n",
        "&nbsp;\n",
        "\n",
        "### População da Índia em 2021: 1,401 Bilhões\n",
        "\n",
        "\n",
        "#### Amostra de dados sobre a frota de carros da Índia.\n",
        "\n",
        "&nbsp;\n",
        "\n",
        "### Deste modo...\n",
        "\n",
        "&nbsp;\n",
        "\n",
        "### Colete dados sobre os carros na Índia e obtenha os seguintes indicadores:\n",
        "\n",
        "    - Média de preço do veículo pela cor\n",
        "    - Média de preço do veículo pela Marca/Fabricante\n",
        "    - Quantidade de carros por marca\n",
        "    - Quantidade de carros pelo tipo da transmissão (Câmbio)\n",
        "    - Média de idade dos carros por região\n",
        "    - Média de Potência do motor pelo tipo de combustível\n",
        "\n",
        "#### Ordene do maior para o menor!\n",
        "\n",
        "&nbsp;\n",
        "\n",
        "\n",
        "\n",
        "https://www.kaggle.com/datasets/nehalbirla/vehicle-dataset-from-cardekho?select=car+details+v4.csv"
      ]
    },
    {
      "cell_type": "code",
      "execution_count": 1,
      "metadata": {
        "id": "O-EPYGbakBSf"
      },
      "outputs": [],
      "source": [
        "import pandas as pd"
      ]
    },
    {
      "cell_type": "code",
      "execution_count": 2,
      "metadata": {
        "id": "PZTGCc8DkBSg"
      },
      "outputs": [],
      "source": [
        "# Carregando os dados do arquivo CSV para um Dataframe Pandas\n",
        "\n",
        "df = pd.read_csv('/content/car_details.csv')"
      ]
    },
    {
      "cell_type": "code",
      "execution_count": 3,
      "metadata": {
        "id": "qqrT8stpkBSh"
      },
      "outputs": [],
      "source": [
        "# Dropando as linhas com valores nulos\n",
        "\n",
        "df.dropna(inplace=True)"
      ]
    },
    {
      "cell_type": "code",
      "execution_count": 4,
      "metadata": {
        "id": "nsN-2zy3kBSi"
      },
      "outputs": [],
      "source": [
        "# Tratando os dados coletados dos motores\n",
        "\n",
        "df['Engine'] = df['Engine'].str.replace(' cc', '').astype(float)"
      ]
    },
    {
      "cell_type": "code",
      "execution_count": null,
      "metadata": {
        "id": "jNNu1ixVkBSj"
      },
      "outputs": [],
      "source": [
        "df[\"Location\"].unique()"
      ]
    },
    {
      "cell_type": "code",
      "execution_count": 6,
      "metadata": {
        "id": "6UgWI5NvkBSl"
      },
      "outputs": [],
      "source": [
        "# Calcula a média de preço do veículo pela cor\n",
        "\n",
        "med_preco_pela_cor = (df.groupby('Color')['Price'].mean()).round(2)\n",
        "\n",
        "# Convertendo para Reais\n",
        "\n",
        "med_preco_pela_cor = (med_preco_pela_cor.divide(17)).round(2)"
      ]
    },
    {
      "cell_type": "code",
      "execution_count": 7,
      "metadata": {
        "id": "xfzHqv8ykBSl"
      },
      "outputs": [],
      "source": [
        "# Calcula a média de preço do veículo pela Marca/Fabricante\n",
        "\n",
        "med_preco_por_marca = df.groupby('Make')['Price'].mean()\n",
        "\n",
        "# Convertendo para Reais\n",
        "\n",
        "med_preco_por_marca = (med_preco_por_marca.divide(17)).round(2)"
      ]
    },
    {
      "cell_type": "code",
      "execution_count": 8,
      "metadata": {
        "id": "GKGfltzzkBSn"
      },
      "outputs": [],
      "source": [
        "# Calculando a quantidade de carros por marca\n",
        "\n",
        "qtd_carros_por_marca = df.groupby('Make').size()"
      ]
    },
    {
      "cell_type": "code",
      "execution_count": 9,
      "metadata": {
        "id": "zY7YB3xnkBSp"
      },
      "outputs": [],
      "source": [
        "# Calculando a quantidade de carros pelo tipo da transmissão (Câmbio)\n",
        "\n",
        "qtd_carros_por_transm = df.groupby('Transmission').size()"
      ]
    },
    {
      "cell_type": "code",
      "execution_count": 10,
      "metadata": {
        "id": "tpMu89IqkBSq"
      },
      "outputs": [],
      "source": [
        "# Calcula a média de idade dos carros por região\n",
        "\n",
        "med_idade_por_regiao = (df.groupby('Location')['Year'].mean()).astype(int)"
      ]
    },
    {
      "cell_type": "code",
      "execution_count": 11,
      "metadata": {
        "id": "S89oGqLFkBSr"
      },
      "outputs": [],
      "source": [
        "# Calcula a média de Potencia do motor pelo tipo de combustível\n",
        "\n",
        "med_pot_por_comb = (df.groupby('Fuel Type')['Engine'].mean()).round(2)"
      ]
    },
    {
      "cell_type": "code",
      "execution_count": null,
      "metadata": {
        "id": "G6o8ZjHXkBSs"
      },
      "outputs": [],
      "source": [
        "print(\"\\n Média de preço do veículo pela cor:\")\n",
        "print(med_preco_pela_cor.sort_values(ascending=False))"
      ]
    },
    {
      "cell_type": "code",
      "execution_count": null,
      "metadata": {
        "id": "koTzcmTVkBSt"
      },
      "outputs": [],
      "source": [
        "print(\"\\n Média de preço do veículo pela Marca/Fabricante:\")\n",
        "print(med_preco_por_marca.sort_values(ascending=False))"
      ]
    },
    {
      "cell_type": "code",
      "execution_count": null,
      "metadata": {
        "id": "aCdZyB4EkBSu"
      },
      "outputs": [],
      "source": [
        "print(\"\\n Quantidade de carros por marca:\")\n",
        "print(qtd_carros_por_marca.sort_values(ascending=False))"
      ]
    },
    {
      "cell_type": "code",
      "execution_count": null,
      "metadata": {
        "id": "Hy8WxnkwkBSu"
      },
      "outputs": [],
      "source": [
        "print(\"\\n Quantidade de carros pelo tipo da transmissão (Câmbio):\")\n",
        "print(qtd_carros_por_transm.sort_values(ascending=False))"
      ]
    },
    {
      "cell_type": "code",
      "execution_count": null,
      "metadata": {
        "id": "QpY3M3G4kBSv"
      },
      "outputs": [],
      "source": [
        "print(\"\\n Média de idade dos carros por região:\")\n",
        "print(med_idade_por_regiao.sort_values(ascending=False))"
      ]
    },
    {
      "cell_type": "code",
      "execution_count": null,
      "metadata": {
        "id": "m5gnFlOHkBSw"
      },
      "outputs": [],
      "source": [
        "print(\"\\n Média de Potência do motor pelo tipo de combustível:\")\n",
        "print(med_pot_por_comb.sort_values(ascending=False))"
      ]
    },
    {
      "cell_type": "markdown",
      "metadata": {
        "id": "UxRbTUhGkBSw"
      },
      "source": [
        "#### CNG = Gás Comprimido natural\n",
        "#### LPG = Gás liquefeito do petróleo\n",
        "#### Petrol = Gasolina"
      ]
    }
  ],
  "metadata": {
    "kernelspec": {
      "display_name": "Python 3",
      "language": "python",
      "name": "python3"
    },
    "language_info": {
      "codemirror_mode": {
        "name": "ipython",
        "version": 3
      },
      "file_extension": ".py",
      "mimetype": "text/x-python",
      "name": "python",
      "nbconvert_exporter": "python",
      "pygments_lexer": "ipython3",
      "version": "3.10.6"
    },
    "orig_nbformat": 4,
    "colab": {
      "provenance": [],
      "include_colab_link": true
    }
  },
  "nbformat": 4,
  "nbformat_minor": 0
}